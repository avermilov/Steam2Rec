{
 "cells": [
  {
   "cell_type": "code",
   "execution_count": 1,
   "id": "f84b97d9",
   "metadata": {},
   "outputs": [],
   "source": [
    "import warnings\n",
    "import re\n",
    "import math\n",
    "import json\n",
    "import glob\n",
    "import random\n",
    "from collections import Counter, defaultdict\n",
    "\n",
    "import pathlib\n",
    "import tqdm\n",
    "from pathlib import Path\n",
    "import numpy as np\n",
    "from joblib import Parallel, delayed\n",
    "import pandas as pd\n",
    "from sklearn.metrics.pairwise import cosine_similarity\n",
    "from scipy.sparse import csr_matrix, csr_array, lil_array, lil_matrix, save_npz, load_npz\n",
    "\n",
    "pd.set_option(\"display.max_columns\", None)\n",
    "warnings.filterwarnings(\"ignore\")"
   ]
  },
  {
   "cell_type": "markdown",
   "id": "97fcfdc1",
   "metadata": {},
   "source": [
    "# Prepare data"
   ]
  },
  {
   "cell_type": "code",
   "execution_count": 2,
   "id": "3d2278cd",
   "metadata": {},
   "outputs": [],
   "source": [
    "games_path = \"/home/artermiloff/Datasets/Steam/SteamGames/games_clean.csv\"\n",
    "games_reviews_path = \"/home/artermiloff/Datasets/Steam/SteamReviewsCombined/*.csv\"\n",
    "steam_users_path = \"/home/artermiloff/Datasets/Steam/steam_users.csv\""
   ]
  },
  {
   "cell_type": "code",
   "execution_count": 3,
   "id": "abcb21b0",
   "metadata": {},
   "outputs": [
    {
     "data": {
      "text/plain": [
       "8144"
      ]
     },
     "execution_count": 3,
     "metadata": {},
     "output_type": "execute_result"
    }
   ],
   "source": [
    "# games information\n",
    "game_info_df = pd.read_csv(games_path)\n",
    "game_info_df[\"TotalReviews\"] = game_info_df[\"Positive\"] + game_info_df[\"Negative\"]\n",
    "# remove trash games\n",
    "game_info_df = game_info_df[~game_info_df[\"Estimated owners\"].isin(['0 - 0', '0 - 20000'])]\n",
    "game_info_df = game_info_df.query(\"TotalReviews >= 400\")\n",
    "popular_games = set(game_info_df['AppID'])\n",
    "len(popular_games)"
   ]
  },
  {
   "cell_type": "code",
   "execution_count": 4,
   "id": "ab69ec0f",
   "metadata": {},
   "outputs": [],
   "source": [
    "similar_games_df = pd.read_csv(\"/home/artermiloff/Datasets/Steam/steam_game_similarities.csv\")"
   ]
  },
  {
   "cell_type": "markdown",
   "id": "0e768704",
   "metadata": {},
   "source": [
    "# Create sparse interaction matrix"
   ]
  },
  {
   "cell_type": "code",
   "execution_count": 5,
   "id": "f81c6c4e",
   "metadata": {},
   "outputs": [
    {
     "name": "stderr",
     "output_type": "stream",
     "text": [
      "100%|████████████████████████████████████| 71148/71148 [04:04<00:00, 290.54it/s]\n"
     ]
    }
   ],
   "source": [
    "appids, steamids, votes = [], [], []\n",
    "review_files = glob.glob(games_reviews_path)\n",
    "for review_file in tqdm.tqdm(review_files):\n",
    "    appid = int(Path(review_file).stem)\n",
    "    if appid not in popular_games:\n",
    "        continue\n",
    "    reviews = pd.read_csv(review_file)\n",
    "    reviews[\"AppID\"] = appid\n",
    "    appids += [appid] * reviews.shape[0]\n",
    "    steamids += list(reviews[\"author_steamid\"])\n",
    "    votes += list(2 * reviews[\"voted_up\"].astype(int) - 1) # convert vote up/down to 1 and -1 respectively"
   ]
  },
  {
   "cell_type": "code",
   "execution_count": 6,
   "id": "7295ca26",
   "metadata": {},
   "outputs": [
    {
     "data": {
      "text/plain": [
       "4304315"
      ]
     },
     "execution_count": 6,
     "metadata": {},
     "output_type": "execute_result"
    }
   ],
   "source": [
    "MIN_REVIEWS = 5\n",
    "MAX_REVIEWS = 250\n",
    "\n",
    "steamids_num_reviews = sorted(Counter(steamids).items(), key=lambda item: item[1], reverse=True)\n",
    "\n",
    "valid_steamids_list = [steamid for steamid, num_reviews in steamids_num_reviews \\\n",
    "                      if MIN_REVIEWS <= num_reviews <= MAX_REVIEWS]\n",
    "valid_steamids = set(valid_steamids_list)\n",
    "len(valid_steamids)"
   ]
  },
  {
   "cell_type": "code",
   "execution_count": 7,
   "id": "d4837530",
   "metadata": {},
   "outputs": [
    {
     "name": "stderr",
     "output_type": "stream",
     "text": [
      "100%|████████████████████████| 100854237/100854237 [00:24<00:00, 4078307.53it/s]\n"
     ]
    }
   ],
   "source": [
    "# remove all users who have too little (< 5) or too many (> 250) reviews\n",
    "appids_filtered, steamids_filtered, votes_filtered = [], [], []\n",
    "for i in tqdm.tqdm(range(len(steamids))):\n",
    "    if steamids[i] in valid_steamids:\n",
    "        appids_filtered.append(appids[i])\n",
    "        steamids_filtered.append(steamids[i])\n",
    "        votes_filtered.append(votes[i])\n",
    "        \n",
    "appids, steamids, votes = appids_filtered, steamids_filtered, votes_filtered"
   ]
  },
  {
   "cell_type": "code",
   "execution_count": 8,
   "id": "78de3a92",
   "metadata": {},
   "outputs": [
    {
     "data": {
      "text/plain": [
       "<4304315x8139 sparse matrix of type '<class 'numpy.int64'>'\n",
       "\twith 46732680 stored elements in Compressed Sparse Row format>"
      ]
     },
     "metadata": {},
     "output_type": "display_data"
    },
    {
     "data": {
      "text/plain": [
       "Counter({1: 40174856, -1: 6557824})"
      ]
     },
     "metadata": {},
     "output_type": "display_data"
    }
   ],
   "source": [
    "STEAMID_TO_INDEX = {steamid: i for i, steamid in enumerate(set(steamids))}\n",
    "APPID_TO_INDEX = {appid: i for i, appid in enumerate(set(appids))}\n",
    "\n",
    "INDEX_TO_STEAMID = {v: k for k, v in STEAMID_TO_INDEX.items()}\n",
    "INDEX_TO_APPID = {v: k for k, v in APPID_TO_INDEX.items()}\n",
    "\n",
    "remapped_steamids = [STEAMID_TO_INDEX[steamid] for steamid in steamids]\n",
    "remapped_appids = [APPID_TO_INDEX[appid] for appid in appids]\n",
    "\n",
    "sparse_interaction_matrix = csr_matrix((votes, (remapped_steamids, remapped_appids)),\n",
    "                                      shape=(max(remapped_steamids) + 1, max(remapped_appids) + 1))\n",
    "display(sparse_interaction_matrix, Counter(sparse_interaction_matrix.data))"
   ]
  },
  {
   "cell_type": "code",
   "execution_count": 9,
   "id": "51ab47c6",
   "metadata": {},
   "outputs": [],
   "source": [
    "# # Сохранение разреженной матрицы в файл\n",
    "# save_npz('/home/artermiloff/Datasets/Steam/sparse_interaction_matrix.npz', sparse_interaction_matrix)"
   ]
  },
  {
   "cell_type": "markdown",
   "id": "52046560",
   "metadata": {},
   "source": [
    "# Create train/test split"
   ]
  },
  {
   "cell_type": "code",
   "execution_count": 10,
   "id": "2fa2a407",
   "metadata": {},
   "outputs": [],
   "source": [
    "TEST_SIZE = 0.3"
   ]
  },
  {
   "cell_type": "code",
   "execution_count": 11,
   "id": "27d1ea80",
   "metadata": {},
   "outputs": [],
   "source": [
    "def flatten(xss):\n",
    "    return [x for xs in xss for x in xs]\n",
    "\n",
    "\n",
    "def train_test_split(interaction_matrix, test_size, index_to_appid, seed=42) -> (csr_matrix, dict):\n",
    "    train_cols, train_rows, train_reviews = [], [], []\n",
    "    test_interactions = dict()\n",
    "    np.random.seed(seed)\n",
    "    for i in tqdm.tqdm(range(interaction_matrix.shape[0])):\n",
    "        game_idxs = interaction_matrix[i, :].indices\n",
    "        reviews = interaction_matrix[i, :].data\n",
    "        pos_reviews_idxs, neg_reviews_idxs = list(game_idxs[reviews == 1]), list(game_idxs[reviews == -1])\n",
    "\n",
    "        user_test_size = int(test_size * len(reviews))\n",
    "        if len(pos_reviews_idxs) < user_test_size:\n",
    "            train_cols.append(game_idxs)\n",
    "            train_rows.append([i] * len(game_idxs))\n",
    "            train_reviews.append(reviews)\n",
    "            continue\n",
    "        \n",
    "        np.random.shuffle(pos_reviews_idxs)\n",
    "\n",
    "        test_interactions[i] = [index_to_appid[idx] for idx in pos_reviews_idxs[:user_test_size]]\n",
    "\n",
    "        user_train_cols = pos_reviews_idxs[user_test_size:] + neg_reviews_idxs\n",
    "        user_train_rows = [i] * len(user_train_cols)\n",
    "        user_train_reviews = [1] * (len(pos_reviews_idxs) - user_test_size) + [-1] * len(neg_reviews_idxs)\n",
    "\n",
    "        train_cols.append(user_train_cols)\n",
    "        train_rows.append(user_train_rows)\n",
    "        train_reviews.append(user_train_reviews)\n",
    "        \n",
    "    return csr_matrix((flatten(train_reviews), (flatten(train_rows), flatten(train_cols))),\n",
    "                                  shape=interaction_matrix.shape), test_interactions"
   ]
  },
  {
   "cell_type": "code",
   "execution_count": 12,
   "id": "48d26c38",
   "metadata": {},
   "outputs": [
    {
     "name": "stderr",
     "output_type": "stream",
     "text": [
      "100%|██████████████████████████████| 4304315/4304315 [04:22<00:00, 16385.47it/s]\n"
     ]
    }
   ],
   "source": [
    "train_interaction_matrix, test_interactions = train_test_split(sparse_interaction_matrix, \n",
    "                                                                test_size=TEST_SIZE,\n",
    "                                                               index_to_appid=INDEX_TO_APPID,\n",
    "                                                               seed=42)"
   ]
  },
  {
   "cell_type": "code",
   "execution_count": 13,
   "id": "cc3428e4",
   "metadata": {},
   "outputs": [
    {
     "data": {
      "text/plain": [
       "<4304315x8139 sparse matrix of type '<class 'numpy.int64'>'\n",
       "\twith 34846951 stored elements in Compressed Sparse Row format>"
      ]
     },
     "execution_count": 13,
     "metadata": {},
     "output_type": "execute_result"
    }
   ],
   "source": [
    "train_interaction_matrix"
   ]
  },
  {
   "cell_type": "markdown",
   "id": "84b67c73",
   "metadata": {},
   "source": [
    "# Algorithms"
   ]
  },
  {
   "cell_type": "code",
   "execution_count": 14,
   "id": "3db1b9fa",
   "metadata": {},
   "outputs": [],
   "source": [
    "def user_user_collaborative_filtering(interaction_matrix, user_index, k_neighbors=100, num_results=None):    \n",
    "    # Calculate the user similarity matrix\n",
    "    user_row = interaction_matrix[[user_index], :]\n",
    "    user_similarity = cosine_similarity(user_row, interaction_matrix)\n",
    "    user_similarity[0][user_index] = 0\n",
    "    \n",
    "    # Get the user's k nearest neighbors\n",
    "    user_neighbors = np.argsort(user_similarity[0])[::-1][:k_neighbors]\n",
    "    \n",
    "    # Calculating like ratios and number of reviews for each game among neighbors\n",
    "    user_ratings = []\n",
    "    for i in range(interaction_matrix[user_neighbors].shape[1]):\n",
    "        game_ratings = interaction_matrix[user_neighbors][:, i]\n",
    "        \n",
    "        # If at least one neighbor rated the game, calculate liked ratio\n",
    "        # else, assign it 0 \n",
    "        neighbor_average_rating = 0\n",
    "        num_neighbors_reviewed = game_ratings.data.shape[0]\n",
    "        if num_neighbors_reviewed != 0:\n",
    "            c = Counter(game_ratings.data)\n",
    "            pos = c[1] if 1 in c else 0\n",
    "            neg = c[-1] if -1 in c else 0\n",
    "            neighbor_average_rating = pos / (pos + neg)\n",
    "        user_ratings.append((num_neighbors_reviewed, round(neighbor_average_rating, 2)))\n",
    "    user_ratings = np.array(user_ratings) \n",
    "    \n",
    "    selected_games = np.where(interaction_matrix[user_index].todense() == 0)[1]\n",
    "    user_ratings = list(map(tuple, user_ratings[selected_games]))\n",
    "    # Sort by most reviews, then by like ratio\n",
    "    recommendations = sorted(zip(selected_games, user_ratings), key=lambda x: x[1], reverse=True)\n",
    "    if num_results is not None:\n",
    "        recommendations = recommendations[:num_results]\n",
    "        \n",
    "    recommendations = [i[0] for i in recommendations]\n",
    "        \n",
    "    return recommendations"
   ]
  },
  {
   "cell_type": "code",
   "execution_count": 15,
   "id": "9f85114c",
   "metadata": {},
   "outputs": [],
   "source": [
    "# this fast implementation requires precomputing similar games (items) for each game (see TODO)\n",
    "def item_item_collaborative_filtering(similar_games_df, user_played_appids, num_results):\n",
    "    user_played_appids = set(user_played_appids)\n",
    "    similar_games_for_user = similar_games_df[similar_games_df.appid.isin(user_played_appids)]\n",
    "    similar_unplayed_games = similar_games_for_user[~similar_games_for_user.similar_appid.isin(\n",
    "        user_played_appids)].sort_values(\"cos_distance\", ascending=False).drop_duplicates(\n",
    "        subset=[\"similar_appid\"], keep=\"first\")\n",
    "    \n",
    "    return similar_unplayed_games.similar_appid.head(num_results).values"
   ]
  },
  {
   "cell_type": "code",
   "execution_count": 16,
   "id": "8f1aa5e4",
   "metadata": {},
   "outputs": [],
   "source": [
    "def get_popular_recommendations(game_info_df, num_results):\n",
    "    game_info_df = game_info_df.copy()\n",
    "    game_info_df[\"Rating\"] = (game_info_df[\"Positive\"] / (\n",
    "        game_info_df[\"Positive\"] + game_info_df[\"Negative\"])).round(2)\n",
    "    top_games = game_info_df.sort_values([\"Rating\", \"TotalReviews\"], ascending=False).head(num_results)\n",
    "    recommendations = list(top_games[\"AppID\"])\n",
    "    \n",
    "    return recommendations"
   ]
  },
  {
   "cell_type": "code",
   "execution_count": 17,
   "id": "a613ed44",
   "metadata": {},
   "outputs": [],
   "source": [
    "def get_new_recommendations(game_info_df, num_results):\n",
    "    game_info_df = game_info_df.copy()\n",
    "    game_info_df[\"Rating\"] = (game_info_df[\"Positive\"] / (\n",
    "        game_info_df[\"Positive\"] + game_info_df[\"Negative\"])).round(2)\n",
    "    game_info_df[\"Year\"] = game_info_df['Release date'].astype(str).str[-4:]\n",
    "    top_games = game_info_df.sort_values([\"Year\", \"Rating\", \"TotalReviews\"], ascending=False).head(num_results)\n",
    "    recommendation = list(top_games[\"AppID\"])\n",
    "    \n",
    "    return recommendation"
   ]
  },
  {
   "cell_type": "markdown",
   "id": "887e5bed",
   "metadata": {},
   "source": [
    "# Metrics"
   ]
  },
  {
   "cell_type": "code",
   "execution_count": 18,
   "id": "fe9ce22f",
   "metadata": {},
   "outputs": [],
   "source": [
    "def precision_at_k(actual, predicted, k):\n",
    "    actual_set = set(actual)\n",
    "    num_actual = len(actual_set)\n",
    "    if num_actual < k:\n",
    "        k = num_actual\n",
    "        \n",
    "    num_found = len(actual_set.intersection(set(predicted[:k])))\n",
    "    precision = num_found / k\n",
    "    \n",
    "    return precision\n",
    "\n",
    "\n",
    "def average_precision_at_k(actual, predicted, k):\n",
    "    actual_set = set(actual)\n",
    "    num_actual = len(actual_set)\n",
    "    if num_actual < k:\n",
    "        k = num_actual\n",
    "        \n",
    "    cum_sum = ap = 0\n",
    "    for i in range(k):\n",
    "        if predicted[i] in actual_set:\n",
    "            cum_sum += 1\n",
    "            ap += cum_sum / (i + 1)\n",
    "    \n",
    "    return ap / k\n",
    "\n",
    "\n",
    "def mean_average_precision_at_k(actuals, predicteds, k):\n",
    "    return np.mean([average_precision_at_k(a, p, k) for a, p in zip(actuals, predicteds)])\n",
    "\n",
    "\n",
    "def recall_at_k(actual, predicted, k):\n",
    "    actual_set = set(actual)\n",
    "    num_actual = len(actual_set)\n",
    "    if num_actual < k:\n",
    "        k = num_actual\n",
    "        \n",
    "    num_found = len(actual_set.intersection(set(predicted[:k])))\n",
    "    recall = num_found / num_actual\n",
    "    \n",
    "    return recall\n",
    "\n",
    "\n",
    "def ndcg_at_k(actual, predicted, k):\n",
    "    actual_set = set(actual)\n",
    "    k = min(k, len(actual))\n",
    "    # Calculating IDCG (Ideal Discounted Cumulative Gain)\n",
    "    idcg = (1 / (np.log2(np.arange(2, k + 2)))).sum()\n",
    "\n",
    "    # Calculating DCG (Discounted Cumulative Gain)\n",
    "    if len(predicted) < k:\n",
    "        predicted = predicted + [-1] * (k - len(predicted))\n",
    "    dcg = np.sum([1 / np.log2(i + 2) for i in range(k) if predicted[i] in actual_set])\n",
    "\n",
    "    # Calculating nDCG\n",
    "    return dcg / idcg if idcg != 0 else 0\n",
    "\n",
    "\n",
    "def mean_ndcg_at_k(actuals, predicteds, k):\n",
    "    return np.mean([ndcg_at_k(a, p, k) for a, p in zip(actuals, predicteds)])"
   ]
  },
  {
   "cell_type": "markdown",
   "id": "d8060300",
   "metadata": {},
   "source": [
    "# Algorithm Evaluation"
   ]
  },
  {
   "cell_type": "code",
   "execution_count": 19,
   "id": "6b4e13eb",
   "metadata": {},
   "outputs": [],
   "source": [
    "def get_games_played(interaction_matrix, df, user_index, app_index_dict, verbose=False):\n",
    "    rated_games = np.where(interaction_matrix[user_index].todense() != 0)[1]\n",
    "    \n",
    "    games_played = list()\n",
    "    # see what games are recommended for the user\n",
    "    for game_idx in rated_games:\n",
    "        game_id = get_key(app_index_dict, game_idx)\n",
    "        games_played.append(game_id)\n",
    "        \n",
    "        if verbose:\n",
    "            print(df[df['AppID'] == game_id]['Name'].item())\n",
    "        \n",
    "    return games_played"
   ]
  },
  {
   "cell_type": "code",
   "execution_count": 20,
   "id": "9f38a821",
   "metadata": {},
   "outputs": [],
   "source": [
    "K_VALUES = [1, 5, 10, 25, 50, 100]"
   ]
  },
  {
   "cell_type": "code",
   "execution_count": 21,
   "id": "4ff29ed9",
   "metadata": {},
   "outputs": [],
   "source": [
    "random.seed(42)\n",
    "NUM_SUBSAMPLE = 43_000\n",
    "metrics_steamids_sample = [it for it in random.sample(valid_steamids_list, NUM_SUBSAMPLE\n",
    "                                              ) if STEAMID_TO_INDEX[it] in test_interactions]\n",
    "metrics_steamids_full = [it for it in valid_steamids_list if STEAMID_TO_INDEX[it] in test_interactions]"
   ]
  },
  {
   "cell_type": "code",
   "execution_count": 22,
   "id": "6bdc0270",
   "metadata": {
    "scrolled": true
   },
   "outputs": [
    {
     "name": "stderr",
     "output_type": "stream",
     "text": [
      "[Parallel(n_jobs=28)]: Using backend LokyBackend with 28 concurrent workers.\n",
      "[Parallel(n_jobs=28)]: Done 144 tasks      | elapsed:   19.6s\n",
      "[Parallel(n_jobs=28)]: Done 394 tasks      | elapsed:   44.2s\n",
      "[Parallel(n_jobs=28)]: Done 744 tasks      | elapsed:  1.3min\n",
      "[Parallel(n_jobs=28)]: Done 1194 tasks      | elapsed:  2.0min\n",
      "[Parallel(n_jobs=28)]: Done 1744 tasks      | elapsed:  2.9min\n",
      "[Parallel(n_jobs=28)]: Done 2394 tasks      | elapsed:  4.0min\n",
      "[Parallel(n_jobs=28)]: Done 3144 tasks      | elapsed:  5.2min\n",
      "[Parallel(n_jobs=28)]: Done 3994 tasks      | elapsed:  6.6min\n",
      "[Parallel(n_jobs=28)]: Done 4944 tasks      | elapsed:  8.2min\n",
      "[Parallel(n_jobs=28)]: Done 5994 tasks      | elapsed:  9.9min\n",
      "[Parallel(n_jobs=28)]: Done 7144 tasks      | elapsed: 11.7min\n",
      "[Parallel(n_jobs=28)]: Done 8394 tasks      | elapsed: 13.8min\n",
      "[Parallel(n_jobs=28)]: Done 9744 tasks      | elapsed: 16.0min\n",
      "[Parallel(n_jobs=28)]: Done 11194 tasks      | elapsed: 18.4min\n",
      "[Parallel(n_jobs=28)]: Done 12744 tasks      | elapsed: 20.9min\n",
      "[Parallel(n_jobs=28)]: Done 14394 tasks      | elapsed: 23.6min\n",
      "[Parallel(n_jobs=28)]: Done 16144 tasks      | elapsed: 26.4min\n",
      "[Parallel(n_jobs=28)]: Done 17994 tasks      | elapsed: 29.4min\n",
      "[Parallel(n_jobs=28)]: Done 19944 tasks      | elapsed: 32.6min\n",
      "[Parallel(n_jobs=28)]: Done 21994 tasks      | elapsed: 35.9min\n",
      "[Parallel(n_jobs=28)]: Done 24144 tasks      | elapsed: 39.4min\n",
      "[Parallel(n_jobs=28)]: Done 26394 tasks      | elapsed: 43.1min\n",
      "[Parallel(n_jobs=28)]: Done 28744 tasks      | elapsed: 46.9min\n",
      "[Parallel(n_jobs=28)]: Done 31194 tasks      | elapsed: 50.9min\n",
      "[Parallel(n_jobs=28)]: Done 33744 tasks      | elapsed: 55.0min\n",
      "[Parallel(n_jobs=28)]: Done 36394 tasks      | elapsed: 59.3min\n",
      "[Parallel(n_jobs=28)]: Done 39144 tasks      | elapsed: 63.8min\n",
      "[Parallel(n_jobs=28)]: Done 41994 tasks      | elapsed: 68.4min\n",
      "[Parallel(n_jobs=28)]: Done 42731 out of 42731 | elapsed: 69.6min finished\n"
     ]
    }
   ],
   "source": [
    "recommendations_user_user_cf = Parallel(28, verbose=1)(delayed(user_user_collaborative_filtering\n",
    "                                                  )(train_interaction_matrix, STEAMID_TO_INDEX[steamid],\n",
    "                                                           k_neighbors=100\n",
    "                                              ) for steamid in metrics_steamids_sample)\n",
    "recommendations_user_user_cf = [\n",
    "    [INDEX_TO_APPID[ind] for ind in user_rec] for user_rec in recommendations_user_user_cf\n",
    "]"
   ]
  },
  {
   "cell_type": "code",
   "execution_count": 23,
   "id": "637990d4",
   "metadata": {
    "scrolled": true
   },
   "outputs": [
    {
     "name": "stderr",
     "output_type": "stream",
     "text": [
      "[Parallel(n_jobs=28)]: Using backend LokyBackend with 28 concurrent workers.\n",
      "[Parallel(n_jobs=28)]: Done 176 tasks      | elapsed:    0.7s\n",
      "[Parallel(n_jobs=28)]: Done 3648 tasks      | elapsed:    2.2s\n",
      "[Parallel(n_jobs=28)]: Done 14848 tasks      | elapsed:    6.2s\n",
      "[Parallel(n_jobs=28)]: Done 29248 tasks      | elapsed:   10.7s\n",
      "[Parallel(n_jobs=28)]: Done 46848 tasks      | elapsed:   16.9s\n",
      "[Parallel(n_jobs=28)]: Done 67648 tasks      | elapsed:   23.5s\n",
      "[Parallel(n_jobs=28)]: Done 91648 tasks      | elapsed:   30.2s\n",
      "[Parallel(n_jobs=28)]: Done 118848 tasks      | elapsed:   39.3s\n",
      "[Parallel(n_jobs=28)]: Done 126264 tasks      | elapsed:   46.4s\n",
      "[Parallel(n_jobs=28)]: Done 132564 tasks      | elapsed:   52.8s\n",
      "[Parallel(n_jobs=28)]: Done 139464 tasks      | elapsed:   59.7s\n",
      "[Parallel(n_jobs=28)]: Done 146964 tasks      | elapsed:  1.1min\n",
      "[Parallel(n_jobs=28)]: Done 155064 tasks      | elapsed:  1.3min\n",
      "[Parallel(n_jobs=28)]: Done 163764 tasks      | elapsed:  1.4min\n",
      "[Parallel(n_jobs=28)]: Done 173064 tasks      | elapsed:  1.5min\n",
      "[Parallel(n_jobs=28)]: Done 182964 tasks      | elapsed:  1.7min\n",
      "[Parallel(n_jobs=28)]: Done 193464 tasks      | elapsed:  1.9min\n",
      "[Parallel(n_jobs=28)]: Done 204564 tasks      | elapsed:  2.1min\n",
      "[Parallel(n_jobs=28)]: Done 216264 tasks      | elapsed:  2.3min\n",
      "[Parallel(n_jobs=28)]: Done 228564 tasks      | elapsed:  2.5min\n",
      "[Parallel(n_jobs=28)]: Done 241464 tasks      | elapsed:  2.7min\n",
      "[Parallel(n_jobs=28)]: Done 254964 tasks      | elapsed:  2.9min\n",
      "[Parallel(n_jobs=28)]: Done 269064 tasks      | elapsed:  3.1min\n",
      "[Parallel(n_jobs=28)]: Done 283764 tasks      | elapsed:  3.3min\n",
      "[Parallel(n_jobs=28)]: Done 299064 tasks      | elapsed:  3.6min\n",
      "[Parallel(n_jobs=28)]: Done 314964 tasks      | elapsed:  3.8min\n",
      "[Parallel(n_jobs=28)]: Done 331464 tasks      | elapsed:  4.1min\n",
      "[Parallel(n_jobs=28)]: Done 348564 tasks      | elapsed:  4.4min\n",
      "[Parallel(n_jobs=28)]: Done 366264 tasks      | elapsed:  4.6min\n",
      "[Parallel(n_jobs=28)]: Done 384564 tasks      | elapsed:  4.9min\n",
      "[Parallel(n_jobs=28)]: Done 403464 tasks      | elapsed:  5.2min\n",
      "[Parallel(n_jobs=28)]: Done 422964 tasks      | elapsed:  5.5min\n",
      "[Parallel(n_jobs=28)]: Done 443064 tasks      | elapsed:  5.8min\n",
      "[Parallel(n_jobs=28)]: Done 463764 tasks      | elapsed:  6.2min\n",
      "[Parallel(n_jobs=28)]: Done 485064 tasks      | elapsed:  6.5min\n",
      "[Parallel(n_jobs=28)]: Done 510472 tasks      | elapsed:  7.0min\n",
      "[Parallel(n_jobs=28)]: Done 540472 tasks      | elapsed:  7.4min\n",
      "[Parallel(n_jobs=28)]: Done 571272 tasks      | elapsed:  7.9min\n",
      "[Parallel(n_jobs=28)]: Done 602872 tasks      | elapsed:  8.3min\n",
      "[Parallel(n_jobs=28)]: Done 635272 tasks      | elapsed:  8.8min\n",
      "[Parallel(n_jobs=28)]: Done 668472 tasks      | elapsed:  9.3min\n",
      "[Parallel(n_jobs=28)]: Done 702472 tasks      | elapsed:  9.8min\n",
      "[Parallel(n_jobs=28)]: Done 737272 tasks      | elapsed: 10.4min\n",
      "[Parallel(n_jobs=28)]: Done 772872 tasks      | elapsed: 10.9min\n",
      "[Parallel(n_jobs=28)]: Done 809272 tasks      | elapsed: 11.4min\n",
      "[Parallel(n_jobs=28)]: Done 846472 tasks      | elapsed: 12.0min\n",
      "[Parallel(n_jobs=28)]: Done 884472 tasks      | elapsed: 12.5min\n",
      "[Parallel(n_jobs=28)]: Done 923272 tasks      | elapsed: 13.1min\n",
      "[Parallel(n_jobs=28)]: Done 962872 tasks      | elapsed: 13.7min\n",
      "[Parallel(n_jobs=28)]: Done 1027104 tasks      | elapsed: 14.7min\n",
      "[Parallel(n_jobs=28)]: Done 1109504 tasks      | elapsed: 15.8min\n",
      "[Parallel(n_jobs=28)]: Done 1193504 tasks      | elapsed: 17.0min\n",
      "[Parallel(n_jobs=28)]: Done 1279104 tasks      | elapsed: 18.2min\n",
      "[Parallel(n_jobs=28)]: Done 1366304 tasks      | elapsed: 19.4min\n",
      "[Parallel(n_jobs=28)]: Done 1455104 tasks      | elapsed: 20.6min\n",
      "[Parallel(n_jobs=28)]: Done 1543208 tasks      | elapsed: 21.9min\n",
      "[Parallel(n_jobs=28)]: Done 1635208 tasks      | elapsed: 23.2min\n",
      "[Parallel(n_jobs=28)]: Done 1728808 tasks      | elapsed: 24.5min\n",
      "[Parallel(n_jobs=28)]: Done 1824008 tasks      | elapsed: 25.7min\n",
      "[Parallel(n_jobs=28)]: Done 1920808 tasks      | elapsed: 27.0min\n",
      "[Parallel(n_jobs=28)]: Done 2019208 tasks      | elapsed: 28.3min\n",
      "[Parallel(n_jobs=28)]: Done 2116912 tasks      | elapsed: 29.7min\n",
      "[Parallel(n_jobs=28)]: Done 2218512 tasks      | elapsed: 31.0min\n",
      "[Parallel(n_jobs=28)]: Done 2321712 tasks      | elapsed: 32.3min\n",
      "[Parallel(n_jobs=28)]: Done 2426512 tasks      | elapsed: 33.7min\n",
      "[Parallel(n_jobs=28)]: Done 2532912 tasks      | elapsed: 35.0min\n",
      "[Parallel(n_jobs=28)]: Done 2640912 tasks      | elapsed: 36.4min\n",
      "[Parallel(n_jobs=28)]: Done 2748216 tasks      | elapsed: 37.8min\n",
      "[Parallel(n_jobs=28)]: Done 2859416 tasks      | elapsed: 39.2min\n",
      "[Parallel(n_jobs=28)]: Done 2972216 tasks      | elapsed: 40.7min\n",
      "[Parallel(n_jobs=28)]: Done 3086616 tasks      | elapsed: 42.2min\n",
      "[Parallel(n_jobs=28)]: Done 3202616 tasks      | elapsed: 43.7min\n",
      "[Parallel(n_jobs=28)]: Done 3320216 tasks      | elapsed: 45.1min\n",
      "[Parallel(n_jobs=28)]: Done 3437200 tasks      | elapsed: 46.6min\n",
      "[Parallel(n_jobs=28)]: Done 3557920 tasks      | elapsed: 48.0min\n",
      "[Parallel(n_jobs=28)]: Done 3680320 tasks      | elapsed: 49.5min\n",
      "[Parallel(n_jobs=28)]: Done 3804320 tasks      | elapsed: 51.0min\n",
      "[Parallel(n_jobs=28)]: Done 3929920 tasks      | elapsed: 52.5min\n",
      "[Parallel(n_jobs=28)]: Done 4057120 tasks      | elapsed: 54.0min\n",
      "[Parallel(n_jobs=28)]: Done 4185920 tasks      | elapsed: 55.5min\n",
      "[Parallel(n_jobs=28)]: Done 4279113 out of 4279113 | elapsed: 56.6min finished\n"
     ]
    }
   ],
   "source": [
    "recommendations_item_item_cf = Parallel(28, verbose=1)(delayed(item_item_collaborative_filtering\n",
    "                                                  )(similar_games_df, \n",
    "    [INDEX_TO_APPID[i] for i in train_interaction_matrix[STEAMID_TO_INDEX[steamid], :].indices], 200\n",
    "                                              ) for steamid in metrics_steamids_full)"
   ]
  },
  {
   "cell_type": "code",
   "execution_count": 24,
   "id": "2e2ae74f",
   "metadata": {},
   "outputs": [],
   "source": [
    "recommendations_popular = [get_popular_recommendations(game_info_df, num_results=200)\n",
    "                          ] * len(metrics_steamids_full)"
   ]
  },
  {
   "cell_type": "code",
   "execution_count": 25,
   "id": "860070a3",
   "metadata": {},
   "outputs": [],
   "source": [
    "recommendations_new = [get_new_recommendations(game_info_df, num_results=200)] * len(metrics_steamids_full)"
   ]
  },
  {
   "cell_type": "code",
   "execution_count": 26,
   "id": "5df14fb4",
   "metadata": {
    "scrolled": false
   },
   "outputs": [
    {
     "name": "stdout",
     "output_type": "stream",
     "text": [
      "User-based Collaborative Filtering\n"
     ]
    },
    {
     "name": "stderr",
     "output_type": "stream",
     "text": [
      "42731it [00:01, 26809.66it/s]\n"
     ]
    },
    {
     "name": "stdout",
     "output_type": "stream",
     "text": [
      "K =  1\n",
      "mP@K\t 0.087\n",
      "mR@K\t 0.087\n",
      "mAP@K\t 0.087\n",
      "nDCG@K\t 0.087\n",
      "K =  5\n",
      "mP@K\t 0.056\n",
      "mR@K\t 0.072\n",
      "mAP@K\t 0.056\n",
      "nDCG@K\t 0.072\n",
      "K =  10\n",
      "mP@K\t 0.053\n",
      "mR@K\t 0.07\n",
      "mAP@K\t 0.053\n",
      "nDCG@K\t 0.07\n",
      "K =  25\n",
      "mP@K\t 0.053\n",
      "mR@K\t 0.07\n",
      "mAP@K\t 0.053\n",
      "nDCG@K\t 0.07\n",
      "K =  50\n",
      "mP@K\t 0.053\n",
      "mR@K\t 0.07\n",
      "mAP@K\t 0.053\n",
      "nDCG@K\t 0.07\n",
      "K =  100\n",
      "mP@K\t 0.053\n",
      "mR@K\t 0.07\n",
      "mAP@K\t 0.053\n",
      "nDCG@K\t 0.07\n",
      "\n",
      "Item-based Collaborative Filtering\n"
     ]
    },
    {
     "name": "stderr",
     "output_type": "stream",
     "text": [
      "4279113it [03:10, 22511.56it/s]\n"
     ]
    },
    {
     "name": "stdout",
     "output_type": "stream",
     "text": [
      "K =  1\n",
      "mP@K\t 0.072\n",
      "mR@K\t 0.072\n",
      "mAP@K\t 0.072\n",
      "nDCG@K\t 0.072\n",
      "K =  5\n",
      "mP@K\t 0.046\n",
      "mR@K\t 0.06\n",
      "mAP@K\t 0.046\n",
      "nDCG@K\t 0.06\n",
      "K =  10\n",
      "mP@K\t 0.044\n",
      "mR@K\t 0.059\n",
      "mAP@K\t 0.044\n",
      "nDCG@K\t 0.059\n",
      "K =  25\n",
      "mP@K\t 0.043\n",
      "mR@K\t 0.058\n",
      "mAP@K\t 0.043\n",
      "nDCG@K\t 0.058\n",
      "K =  50\n",
      "mP@K\t 0.043\n",
      "mR@K\t 0.058\n",
      "mAP@K\t 0.043\n",
      "nDCG@K\t 0.058\n",
      "K =  100\n",
      "mP@K\t 0.043\n",
      "mR@K\t 0.058\n",
      "mAP@K\t 0.043\n",
      "nDCG@K\t 0.058\n",
      "\n",
      "Popular Non-Personalized\n"
     ]
    },
    {
     "name": "stderr",
     "output_type": "stream",
     "text": [
      "4279113it [02:29, 28644.72it/s]\n"
     ]
    },
    {
     "name": "stdout",
     "output_type": "stream",
     "text": [
      "K =  1\n",
      "mP@K\t 0.015\n",
      "mR@K\t 0.015\n",
      "mAP@K\t 0.015\n",
      "nDCG@K\t 0.015\n",
      "K =  5\n",
      "mP@K\t 0.007\n",
      "mR@K\t 0.009\n",
      "mAP@K\t 0.007\n",
      "nDCG@K\t 0.009\n",
      "K =  10\n",
      "mP@K\t 0.006\n",
      "mR@K\t 0.009\n",
      "mAP@K\t 0.006\n",
      "nDCG@K\t 0.009\n",
      "K =  25\n",
      "mP@K\t 0.006\n",
      "mR@K\t 0.008\n",
      "mAP@K\t 0.006\n",
      "nDCG@K\t 0.008\n",
      "K =  50\n",
      "mP@K\t 0.006\n",
      "mR@K\t 0.008\n",
      "mAP@K\t 0.006\n",
      "nDCG@K\t 0.008\n",
      "K =  100\n",
      "mP@K\t 0.006\n",
      "mR@K\t 0.008\n",
      "mAP@K\t 0.006\n",
      "nDCG@K\t 0.008\n",
      "\n",
      "New Non-Personalized\n"
     ]
    },
    {
     "name": "stderr",
     "output_type": "stream",
     "text": [
      "4279113it [02:29, 28633.57it/s]\n"
     ]
    },
    {
     "name": "stdout",
     "output_type": "stream",
     "text": [
      "K =  1\n",
      "mP@K\t 0.001\n",
      "mR@K\t 0.001\n",
      "mAP@K\t 0.001\n",
      "nDCG@K\t 0.001\n",
      "K =  5\n",
      "mP@K\t 0.0\n",
      "mR@K\t 0.001\n",
      "mAP@K\t 0.0\n",
      "nDCG@K\t 0.001\n",
      "K =  10\n",
      "mP@K\t 0.0\n",
      "mR@K\t 0.001\n",
      "mAP@K\t 0.0\n",
      "nDCG@K\t 0.001\n",
      "K =  25\n",
      "mP@K\t 0.0\n",
      "mR@K\t 0.001\n",
      "mAP@K\t 0.0\n",
      "nDCG@K\t 0.001\n",
      "K =  50\n",
      "mP@K\t 0.0\n",
      "mR@K\t 0.001\n",
      "mAP@K\t 0.0\n",
      "nDCG@K\t 0.001\n",
      "K =  100\n",
      "mP@K\t 0.0\n",
      "mR@K\t 0.001\n",
      "mAP@K\t 0.0\n",
      "nDCG@K\t 0.001\n",
      "\n"
     ]
    }
   ],
   "source": [
    "for alg_name, recommendations_list, steamids_list in [\n",
    "    (\"User-based Collaborative Filtering\", recommendations_user_user_cf, metrics_steamids_sample),\n",
    "    (\"Item-based Collaborative Filtering\", recommendations_item_item_cf, metrics_steamids_full),\n",
    "    (\"Popular Non-Personalized\", recommendations_popular, metrics_steamids_full),\n",
    "    (\"New Non-Personalized\", recommendations_new, metrics_steamids_full),\n",
    "]:\n",
    "    print(alg_name)\n",
    "    ap_dict, ndcg_dict, re_dict, pr_dict = defaultdict(list), defaultdict(list), defaultdict(list), defaultdict(list)\n",
    "    for steamid, predicted in tqdm.tqdm(zip(steamids_list, recommendations_list)):\n",
    "        actual = test_interactions[STEAMID_TO_INDEX[steamid]]\n",
    "\n",
    "        for k in K_VALUES:\n",
    "            re_dict[k].append(recall_at_k(actual, predicted, k))\n",
    "            pr_dict[k].append(precision_at_k(actual, predicted, k))\n",
    "            ap_dict[k].append(average_precision_at_k(actual, predicted, k))\n",
    "            ndcg_dict[k].append(ndcg_at_k(actual, predicted, k))\n",
    "            \n",
    "    for k in K_VALUES:\n",
    "        print(\"K = \", k)\n",
    "        print(\"mP@K\\t\", round(np.mean(ap_dict[k]), 3))\n",
    "        print(\"mR@K\\t\", round(np.mean(ndcg_dict[k]), 3))\n",
    "        print(\"mAP@K\\t\", round(np.mean(ap_dict[k]), 3))\n",
    "        print(\"nDCG@K\\t\", round(np.mean(ndcg_dict[k]), 3))\n",
    "    print()"
   ]
  }
 ],
 "metadata": {
  "kernelspec": {
   "display_name": "Python 3 (ipykernel)",
   "language": "python",
   "name": "python3"
  },
  "language_info": {
   "codemirror_mode": {
    "name": "ipython",
    "version": 3
   },
   "file_extension": ".py",
   "mimetype": "text/x-python",
   "name": "python",
   "nbconvert_exporter": "python",
   "pygments_lexer": "ipython3",
   "version": "3.10.12"
  }
 },
 "nbformat": 4,
 "nbformat_minor": 5
}
